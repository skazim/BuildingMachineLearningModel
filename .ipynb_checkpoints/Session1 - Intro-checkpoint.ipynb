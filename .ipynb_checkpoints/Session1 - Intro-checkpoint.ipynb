{
 "cells": [
  {
   "cell_type": "markdown",
   "metadata": {},
   "source": [
    "# Array Introduction "
   ]
  },
  {
   "cell_type": "code",
   "execution_count": 2,
   "metadata": {
    "collapsed": true
   },
   "outputs": [
    {
     "name": "stdout",
     "output_type": "stream",
     "text": [
      "Array List  [1, 2] and its type <class 'list'>\n",
      "Repeats  [1, 2, 1, 2]\n",
      "[2, 4]\n",
      "Concatenation [1, 2, 3, 4]\n"
     ]
    }
   ],
   "source": [
    "# array List\n",
    "a = [1,2]\n",
    "print(\"Array List \",a,\"and its type\", type(a))\n",
    "\n",
    "# Array list Multiplication - Repeats\n",
    "print(\"Repeats \",a*2)\n",
    "\n",
    "# if we need multiplication in array we need to do, we could also use filter or map\n",
    "print([x*2 for x in a ])\n",
    "\n",
    "# Array List Addition - Concatenates\n",
    "b = [3,4]\n",
    "print(\"Concatenation\",a+b)"
   ]
  },
  {
   "cell_type": "markdown",
   "metadata": {},
   "source": [
    "### Numpy Array"
   ]
  },
  {
   "cell_type": "code",
   "execution_count": 8,
   "metadata": {},
   "outputs": [
    {
     "name": "stdout",
     "output_type": "stream",
     "text": [
      "CPU times: user 4 ms, sys: 0 ns, total: 4 ms\n",
      "Wall time: 2.45 ms\n",
      "CPU times: user 68 ms, sys: 0 ns, total: 68 ms\n",
      "Wall time: 70.1 ms\n"
     ]
    }
   ],
   "source": [
    "import numpy as np \n",
    "arr= np.arange(100000)\n",
    "my_list = list(range(100000))\n",
    "%time for _ in range(10) : arr2= arr * 2\n",
    "%time for _ in range(10): my_list2 = [x * 2 for x in my_list]"
   ]
  },
  {
   "cell_type": "code",
   "execution_count": 10,
   "metadata": {},
   "outputs": [
    {
     "name": "stdout",
     "output_type": "stream",
     "text": [
      "[[ 3.30396326  9.12981377  6.97727371]\n",
      " [18.25539659  7.59379702 17.05642737]]\n"
     ]
    }
   ],
   "source": [
    "data= np.random.rand(2,3)\n",
    "data = data* 10\n",
    "data = data + data\n",
    "print(data)"
   ]
  },
  {
   "cell_type": "code",
   "execution_count": null,
   "metadata": {},
   "outputs": [],
   "source": [
    "data = [6,7,8,9]\n",
    "print(type(data))\n",
    "data = np.array(data)\n",
    "print(data.shape, type(data))"
   ]
  },
  {
   "cell_type": "code",
   "execution_count": null,
   "metadata": {},
   "outputs": [],
   "source": [
    "data2 = [[1, 2, 3, 4], [5, 6, 7,7]]\n",
    "new_arr = np.array(data2)\n",
    "print(new_arr,new_arr.shape,type(new_arr))"
   ]
  },
  {
   "cell_type": "code",
   "execution_count": null,
   "metadata": {},
   "outputs": [],
   "source": [
    "# Basic indexing and Slicing\n",
    "arr= np.arange(10)\n",
    "print(arr)\n",
    "print(arr[5])\n",
    "print(arr[4:9])"
   ]
  },
  {
   "cell_type": "code",
   "execution_count": 5,
   "metadata": {
    "collapsed": true
   },
   "outputs": [
    {
     "name": "stdout",
     "output_type": "stream",
     "text": [
      "Numpy Array  [1 2] and its type <class 'numpy.ndarray'>\n",
      "Multiplication with constant [2 4]\n",
      "Addition with constant [3 4]\n",
      "Addition with other Numpy Array [4 6]\n",
      "Mulplication with Other Array [3 8]\n",
      "11\n",
      "[[1 2 3]\n",
      " [4 5 6]] 2\n"
     ]
    }
   ],
   "source": [
    "# Numpy array and its Operation\n",
    "import numpy as np\n",
    "a = np.array([1,2])\n",
    "print(\"Numpy Array \",a,\"and its type\", type(a))\n",
    "print(\"Multiplication with constant\", a*2)\n",
    "print(\"Addition with constant\", 2+a)\n",
    "b= np.array([3,4])\n",
    "print(\"Addition with other Numpy Array\", a+b)\n",
    "print(\"Mulplication with Other Array\", a*b) # here * mean component wise or else Voilation of Matrix multiplication\n",
    "c = np.matmul(b,a)\n",
    "print(c)\n",
    "\n",
    "# We can also create numpy array using array list\n",
    "c= [[1,2,3], [4,5,6]]\n",
    "\n",
    "x= np.array(c)\n",
    "print(x , x.ndim)"
   ]
  },
  {
   "cell_type": "code",
   "execution_count": null,
   "metadata": {},
   "outputs": [],
   "source": []
  },
  {
   "cell_type": "code",
   "execution_count": null,
   "metadata": {},
   "outputs": [],
   "source": []
  },
  {
   "cell_type": "code",
   "execution_count": null,
   "metadata": {},
   "outputs": [],
   "source": []
  },
  {
   "cell_type": "code",
   "execution_count": null,
   "metadata": {},
   "outputs": [],
   "source": []
  }
 ],
 "metadata": {
  "kernelspec": {
   "display_name": "Python [default]",
   "language": "python",
   "name": "python3"
  },
  "language_info": {
   "codemirror_mode": {
    "name": "ipython",
    "version": 3
   },
   "file_extension": ".py",
   "mimetype": "text/x-python",
   "name": "python",
   "nbconvert_exporter": "python",
   "pygments_lexer": "ipython3",
   "version": "3.5.5"
  }
 },
 "nbformat": 4,
 "nbformat_minor": 2
}
